{
 "cells": [
  {
   "cell_type": "markdown",
   "id": "39353985-e1c1-4fba-a5a8-efd44811904a",
   "metadata": {},
   "source": [
    "# Data Science Tools and Ecosystem"
   ]
  },
  {
   "cell_type": "markdown",
   "id": "f9e8495c-fa01-46c9-95e7-00f6bc640582",
   "metadata": {
    "tags": []
   },
   "source": [
    "In this notebook Data Science Tools and Ecosystem are summarized"
   ]
  },
  {
   "cell_type": "markdown",
   "id": "d9670635-e692-4799-b1ef-482235a50659",
   "metadata": {},
   "source": [
    "Some of the popular tools that Data Scientists use are:\n",
    "1. Python\n",
    "2. R\n",
    "3. C++\n",
    "4. Java Script"
   ]
  },
  {
   "cell_type": "markdown",
   "id": "48b4a102-ea54-46fd-b0b8-e934a0aa08e1",
   "metadata": {},
   "source": [
    "Some of the commonly used Data scientist Libraries are:\n",
    "1. Pandas\n",
    "2. Tensor Flow \n",
    "3. Scrapy \n",
    "4. Matplotlib"
   ]
  },
  {
   "cell_type": "markdown",
   "id": "c32f32ed-3c5a-49ed-9d08-af5dedb91e09",
   "metadata": {},
   "source": [
    "| Data Science Tools |\n",
    "| --------------------- |\n",
    "| My SQL |\n",
    "| Big Query |\n",
    "| SAS |"
   ]
  },
  {
   "cell_type": "markdown",
   "id": "c554b83f-06dd-4c01-bd91-b05245d6969d",
   "metadata": {
    "tags": []
   },
   "source": [
    "### Below are a few examples of arithmetic expressions in python\n",
    "a=5\n",
    "b=7 \n",
    "a*b"
   ]
  },
  {
   "cell_type": "code",
   "execution_count": 9,
   "id": "56972637-f7f6-47dd-9edb-efadcb10404b",
   "metadata": {
    "tags": []
   },
   "outputs": [
    {
     "data": {
      "text/plain": [
       "17"
      ]
     },
     "execution_count": 9,
     "metadata": {},
     "output_type": "execute_result"
    }
   ],
   "source": [
    "( 3 * 4) + 5"
   ]
  },
  {
   "cell_type": "code",
   "execution_count": 17,
   "id": "56ce24dc-c007-4e74-a8d6-c3d19f748d43",
   "metadata": {
    "tags": []
   },
   "outputs": [
    {
     "data": {
      "text/plain": [
       "3.3333333333333335"
      ]
     },
     "execution_count": 17,
     "metadata": {},
     "output_type": "execute_result"
    }
   ],
   "source": [
    " This will convert 200 minutes to hours by dividing by 60 200/60 "
   ]
  },
  {
   "cell_type": "markdown",
   "id": "c226990d-bdc3-452d-83d7-ca0f20b96529",
   "metadata": {},
   "source": [
    "# OBJECTIVES\n",
    "- Python\n",
    "- R \n",
    "- Java  \n",
    "- C++\n",
    "- Julia\n"
   ]
  },
  {
   "cell_type": "markdown",
   "id": "0101ebb3-fc12-4bad-8769-527c0737e6db",
   "metadata": {},
   "source": [
    "## Akshmi Holla\n",
    "Branton Ondiba"
   ]
  },
  {
   "cell_type": "markdown",
   "id": "c1e2b3fb-f25a-4b89-a11f-806e99f60d29",
   "metadata": {},
   "source": []
  }
 ],
 "metadata": {
  "kernelspec": {
   "display_name": "Python",
   "language": "python",
   "name": "conda-env-python-py"
  },
  "language_info": {
   "codemirror_mode": {
    "name": "ipython",
    "version": 3
   },
   "file_extension": ".py",
   "mimetype": "text/x-python",
   "name": "python",
   "nbconvert_exporter": "python",
   "pygments_lexer": "ipython3",
   "version": "3.7.12"
  }
 },
 "nbformat": 4,
 "nbformat_minor": 5
}
